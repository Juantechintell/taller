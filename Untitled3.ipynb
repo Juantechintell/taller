{
  "nbformat": 4,
  "nbformat_minor": 0,
  "metadata": {
    "colab": {
      "provenance": []
    },
    "kernelspec": {
      "name": "python3",
      "display_name": "Python 3"
    },
    "language_info": {
      "name": "python"
    }
  },
  "cells": [
    {
      "cell_type": "code",
      "execution_count": 30,
      "metadata": {
        "id": "dooox0uQ3qzu",
        "colab": {
          "base_uri": "https://localhost:8080/"
        },
        "outputId": "a45555f2-7075-4a39-f255-1eac2e4c5dc3"
      },
      "outputs": [
        {
          "output_type": "execute_result",
          "data": {
            "text/plain": [
              "0.001056538645936"
            ]
          },
          "metadata": {},
          "execution_count": 30
        }
      ],
      "source": [
        "import pandas as pd\n",
        "df = pd.read_csv(\"data.csv\")\n",
        "df\n",
        "promedio_edad = df[\"Age\"].mean()\n",
        "promedio_edad\n",
        "valores_nulos_por_columna = df.isnull().sum()\n",
        "valores_nulos_por_columna\n",
        "genero_mas_repetido = df[\"Gender\"].mode()\n",
        "genero_mas_repetido\n",
        "hombres = (df[\"Gender\"] ==0).sum()\n",
        "hombres\n",
        "mujeres = (df[\"Gender\"] ==1).sum()\n",
        "mujeres\n",
        "df\n",
        "deportes =(df[\"Sports\"] ==1).sum()\n",
        "masculino_deportes = df.groupby(\"Gender\")[\"Sports\"].sum()\n",
        "masculino_deportes\n",
        "df\n",
        "tutorias = (df[\"Tutoring\"] ==1).sum()\n",
        "tutorias\n",
        "tutorias_por_genero = df.groupby(\"Gender\")[\"Tutoring\"].sum()\n",
        "tutorias_por_genero\n",
        "df\n",
        "tiempo_por_semana = df[\"StudyTimeWeekly\"].max()\n",
        "tiempo_por_semana\n",
        "tiempo_por_semana = df[\"StudyTimeWeekly\"].min()\n",
        "tiempo_por_semana"
      ]
    }
  ]
}